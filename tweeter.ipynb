{
 "cells": [
  {
   "cell_type": "code",
   "execution_count": 4,
   "metadata": {},
   "outputs": [
    {
     "name": "stdout",
     "output_type": "stream",
     "text": [
      "@joanwilsonorg @lisaiceland @aknj @politico @RandPaul @GOP @TheDemocrats Lets keep it simple oh educated one😶\n",
      "Biden… https://t.co/KFGNDLORpm\n",
      "Sentiment(polarity=0.0, subjectivity=0.35714285714285715)\n",
      "@HouseInNowhere @Nash076 I think they're doing this because it worked for Obama and Trump.\n",
      "Obama vs Hilary took way… https://t.co/d7u6kfDVay\n",
      "Sentiment(polarity=0.0, subjectivity=0.0)\n",
      "@HillaryClinton @orgcorps2020 Is it too late for you to run? Serious as a heart attack. The nominees are brutal. We… https://t.co/RY1z6VwzQ7\n",
      "Sentiment(polarity=-0.5027777777777778, subjectivity=0.7555555555555555)\n",
      "@cenkuygur @BernieSanders @PeteButtigieg Who else bets they're going to dump the rest in during the State of the Un… https://t.co/Wjvg2O7ZcA\n",
      "Sentiment(polarity=0.0, subjectivity=0.0)\n",
      "@mark_melbin @cwel87 @krystalball More Hilary supporters voted McCain (vs Obama) in 2008 than Sanders supporters vo… https://t.co/iAjbrLZ9U2\n",
      "Sentiment(polarity=0.5, subjectivity=0.5)\n",
      "@JohnDoeSoetoro @RealVoiceShark @MarkRuffalo To be honest I want hilary to run again just for the simple fact I bet… https://t.co/6owqLHNyO7\n",
      "Sentiment(polarity=0.3, subjectivity=0.6285714285714286)\n",
      "@GFukkus @WalshFreedom @BillWeld2020 Crossing party lines will be tough for me. But I made that mistake in 2016. I… https://t.co/9yqCZwMDge\n",
      "Sentiment(polarity=-0.3888888888888889, subjectivity=0.8333333333333334)\n",
      "RT @Dimitry_Mushroo: Joe Biden is Trump's greatest nightmare.  Joe Biden is also the greatest nightmare of Putin.\n",
      "\n",
      "Ask - why Putin and Trum…\n",
      "Sentiment(polarity=1.0, subjectivity=1.0)\n",
      "Real talk, I like Bernie personally but I'm still salty over the fact that he decided to run as an independent vs s… https://t.co/NXS2JdVUDv\n",
      "Sentiment(polarity=0.06666666666666667, subjectivity=0.2416666666666667)\n",
      "@paulodonoghue93 Could be Ireland's Hilary Vs Trump moment where Hilary framed the election for her to win and we all lost\n",
      "Sentiment(polarity=0.8, subjectivity=0.4)\n",
      "@Nash076 Honestly, the Iowa Caucus doesn't even give Iowa that much power. I was a precinct captain for Bernie last… https://t.co/AW1mbxObja\n",
      "Sentiment(polarity=0.4, subjectivity=0.55)\n",
      "@vikrantkumar @AamAadmiParty Eaxctly this is the reason why times now is sharing these numbers,similar sought of th… https://t.co/nF48DVr0yx\n",
      "Sentiment(polarity=0.0, subjectivity=0.0)\n",
      "@thehill I would have liked to see Sanders vs. Trump last year but Hilary rigged the nomination with the DNC chair\n",
      "Sentiment(polarity=0.3, subjectivity=0.43333333333333335)\n",
      "@Jacobson007Sara @SoldatChristi I don’t agree with the job experience over popularity ... Hilary vs Trump.  It blew all our minds.\n",
      "Sentiment(polarity=0.0, subjectivity=0.0)\n",
      "Trump said something I liked what!? \n",
      "\"they're rigging the election against him again.\" in reference to Hilary and h… https://t.co/2YXAXR39NR\n",
      "Sentiment(polarity=0.75, subjectivity=0.8)\n"
     ]
    }
   ],
   "source": [
    "import re \n",
    "import tweepy \n",
    "from tweepy import API \n",
    "from tweepy import OAuthHandler \n",
    "from textblob import TextBlob \n",
    "\n",
    "\n",
    "       \n",
    "consumer_key = '1Ftm8cWEUmg0QJUGQotJp83tJ'\n",
    "consumer_secret = '62FPr9ws7B6c5gkvCJKuqN66k8dzFfKMU2nUnQwExkBxQGJOXp'\n",
    "access_token = '1112001239544283141-5XUTYdAViaQk8Zy3a8vNlKpQKzoS4c'\n",
    "access_token_secret = '2XCbaRiVFTGVbasD7qw1iTp8dUBUUYG2LD6LElfQZeKsi'\n",
    "auth=tweepy.OAuthHandler(consumer_key, consumer_secret)\n",
    "auth.set_access_token(access_token, access_token_secret)\n",
    "api= tweepy.API(auth)\n",
    "public_tweets=api.search('trump vs hilary')\n",
    "for tweet in public_tweets:\n",
    "    print(tweet.text)\n",
    "    analysis= TextBlob(tweet.text)\n",
    "    print(analysis.sentiment)\n"
   ]
  },
  {
   "cell_type": "code",
   "execution_count": null,
   "metadata": {},
   "outputs": [],
   "source": []
  }
 ],
 "metadata": {
  "kernelspec": {
   "display_name": "Python 3",
   "language": "python",
   "name": "python3"
  },
  "language_info": {
   "codemirror_mode": {
    "name": "ipython",
    "version": 3
   },
   "file_extension": ".py",
   "mimetype": "text/x-python",
   "name": "python",
   "nbconvert_exporter": "python",
   "pygments_lexer": "ipython3",
   "version": "3.7.1"
  }
 },
 "nbformat": 4,
 "nbformat_minor": 2
}
