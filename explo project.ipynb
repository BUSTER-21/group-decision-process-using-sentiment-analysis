{
 "cells": [
  {
   "cell_type": "code",
   "execution_count": 8,
   "metadata": {},
   "outputs": [],
   "source": [
    "import pandas as pd\n",
    "import numpy as np\n",
    "import csv\n",
    "\n",
    "## open file words save in a[] word,c dict{},b[] strength\n",
    "f=open('C:/Users/hp/Desktop/explo/wordsc.csv', newline='')\n",
    "reader = csv.reader(f)\n",
    "a=[]\n",
    "b=[]\n",
    "c={}\n",
    "for row in reader:\n",
    "    a.append(row[0])\n",
    "    b.append(int(row[2]))\n",
    "    c[row[0]]=int(row[2])   \n",
    "f.close()\n",
    "\n",
    "## open file text save in d[] all sentences \n",
    "p=open('C:/Users/hp/Desktop/explo/text.csv', newline='')\n",
    "reader=csv.reader(p)\n",
    "d=[]\n",
    "for row in reader:\n",
    "    if(row[1]!=''):\n",
    "        d.append(row[1])\n",
    "p.close()\n"
   ]
  },
  {
   "cell_type": "code",
   "execution_count": 9,
   "metadata": {},
   "outputs": [],
   "source": [
    "from textblob import TextBlob\n",
    "### identifying postive as 1, neagative as -1 ,similar as 0\n",
    "\n",
    "pl=[]\n",
    "for i in range(len(d)):\n",
    "    text = d[i]\n",
    "    blob = TextBlob(text)\n",
    "    if(blob.sentiment.polarity>0):\n",
    "        pl.append(int(1))\n",
    "    elif(blob.sentiment.polarity<0):\n",
    "        pl.append(int(-1))\n",
    "    else:\n",
    "        pl.append(int(0))"
   ]
  },
  {
   "cell_type": "code",
   "execution_count": 10,
   "metadata": {},
   "outputs": [
    {
     "name": "stdout",
     "output_type": "stream",
     "text": [
      "[12, 12, 12, 12] [2, 0, 0, 1]\n",
      "[7, 3, 9, 10, 4, 9, 10, 9, 10, 6, 7, 6, 7, 6, 9, 10, 6, 8, 10, 10, 10, 6, 6, 7, 6, 6, 10, 9, 6, 9, 9, 9, 9, 7, 7, 6, 7, 7, 10, 9, 7, 9, 10, 10, 10, 7, 7, 3]\n"
     ]
    }
   ],
   "source": [
    "from nltk.tokenize import RegexpTokenizer\n",
    "from nltk.corpus import stopwords \n",
    "from nltk.tokenize import word_tokenize \n",
    "\n",
    "## creating preference[] matrix , posw list posw[] and negw[] list.\n",
    "\n",
    "tokenizer = RegexpTokenizer(r'\\w+')\n",
    "stop_words = set(stopwords.words('english'))\n",
    "preference=[]\n",
    "posw=[]\n",
    "negw=[]\n",
    "pp=0\n",
    "nn=0\n",
    "flag=0\n",
    "no_of_alter=4\n",
    "experts=4\n",
    "\n",
    "for i in range(len(d)):\n",
    "    if(flag==no_of_alter**2-no_of_alter):\n",
    "        flag=0\n",
    "        posw.append(pp)\n",
    "        negw.append(nn)\n",
    "        pp=0\n",
    "        nn=0\n",
    "    s=d[i]\n",
    "    p=[]\n",
    "    k=[]\n",
    "    p=tokenizer.tokenize(s)\n",
    "    filtered_sentence = [] \n",
    "    for w in p: \n",
    "        if w not in stop_words: \n",
    "            filtered_sentence.append(w) \n",
    "            \n",
    "    for j in range(len(filtered_sentence)):\n",
    "        for x in range(len(a)):\n",
    "            if(filtered_sentence[j]==a[x]):\n",
    "                if(pl[i]>0 or pl[i]==0):\n",
    "                        k.append(c[a[x]])\n",
    "                else:\n",
    "                    k.append(int(-1*c[a[x]]))\n",
    "                break\n",
    "    if(k):\n",
    "        if(k[0]>0 or k[0]==0):\n",
    "            preference.append(max(k))\n",
    "            pp+=len(k)\n",
    "        else:\n",
    "            preference.append(min(k))\n",
    "            nn+=len(k)\n",
    "    \n",
    "    flag+=1\n",
    "\n",
    "if(flag==no_of_alter**2-no_of_alter):\n",
    "        flag=0\n",
    "        posw.append(pp)\n",
    "        negw.append(nn)\n",
    "        pp=0\n",
    "        nn=0\n",
    "\n",
    "p=[]\n",
    "k=[]\n",
    "\n",
    "for i in range(len(preference)):\n",
    "    preference[i]=preference[i]+5\n",
    "    \n",
    "print(posw,negw)\n",
    "print(preference)\n"
   ]
  },
  {
   "cell_type": "markdown",
   "metadata": {},
   "source": []
  },
  {
   "cell_type": "code",
   "execution_count": 11,
   "metadata": {},
   "outputs": [
    {
     "name": "stdout",
     "output_type": "stream",
     "text": [
      "[[0.   6.75 5.5  9.5 ]\n",
      " [9.5  0.   5.75 8.75]\n",
      " [9.75 9.5  0.   9.75]\n",
      " [6.5  6.75 5.5  0.  ]]\n",
      "[5.4375, 6.0, 7.25, 4.6875]\n",
      "{1: 1.0147058823529411, 2: 0.8823529411764706, 3: 0.5882352941176471, 4: 1.1911764705882353}\n",
      "3\n",
      "2\n",
      "1\n",
      "4\n"
     ]
    }
   ],
   "source": [
    "import numpy as np\n",
    "import pandas as pd\n",
    "\n",
    "## collective perefernce C[][]\n",
    "weight=1/experts\n",
    "a=(no_of_alter,no_of_alter)\n",
    "c=[]\n",
    "k=0\n",
    "m=0\n",
    "for i in range(no_of_alter*no_of_alter-no_of_alter):\n",
    "    for j in range(m,len(preference),no_of_alter*no_of_alter-no_of_alter):\n",
    "        k+=preference[j]\n",
    "    c.append(k)\n",
    "    m+=1\n",
    "    k=0\n",
    "    \n",
    "C=np.zeros(a)\n",
    "k=[]\n",
    "m=0\n",
    "\n",
    "for i in range(no_of_alter):\n",
    "    for j in range(no_of_alter):\n",
    "        if(i==j):\n",
    "            k.append(0)\n",
    "        else:\n",
    "            k.append(c[m])\n",
    "            m+=1\n",
    "    C[i]=k\n",
    "    k=[]\n",
    "C=C*weight\n",
    "print(C)\n",
    "\n",
    "### table5\n",
    "\n",
    "QGDD=[]\n",
    "for i in range(no_of_alter):\n",
    "    s=0\n",
    "    for j in range(no_of_alter):\n",
    "        s+=C[i][j]\n",
    "    QGDD.append(s/no_of_alter)\n",
    "print(QGDD)\n",
    "\n",
    "RV={}\n",
    "p_mx=np.max(C)        ##max no. in C\n",
    "p_mn=np.min(c)*weight ## min no. in C\n",
    "for i in range(no_of_alter):\n",
    "    t=(p_mx-QGDD[i])/(p_mx-p_mn)\n",
    "    RV[i+1]=t\n",
    "print(RV)\n",
    "\n",
    "ranking = sorted(RV.items(), key=lambda x: x[1])    \n",
    "for i in range(no_of_alter):\n",
    "    print(ranking[i][0])\n",
    "\n"
   ]
  },
  {
   "cell_type": "code",
   "execution_count": 12,
   "metadata": {},
   "outputs": [
    {
     "name": "stdout",
     "output_type": "stream",
     "text": [
      "[4, 4, 6, 3, 4, 3]\n",
      "4.0\n"
     ]
    }
   ],
   "source": [
    "##table 6 way_1 for calclulating consensus\n",
    "### table6 i,j are experts and p1,p2 .... be prefernce matrices\n",
    "\n",
    "CN=[]\n",
    "c=0\n",
    "d=no_of_alter*no_of_alter-no_of_alter\n",
    "for i in range(experts):\n",
    "    for j in range(experts):\n",
    "        if(j>i):\n",
    "            for k in range(d):\n",
    "                res=preference[i*d+k]-preference[j*d+k]\n",
    "                res=res**2\n",
    "                c+=res\n",
    "            CN.append(int(np.sqrt(c)))\n",
    "        res=0\n",
    "        c=0\n",
    "print(CN)\n",
    "\n",
    "s=0\n",
    "for i in range(len(CN)):\n",
    "    s+=CN[i]\n",
    "GCN=s/len(CN)\n",
    "print(GCN)"
   ]
  },
  {
   "cell_type": "code",
   "execution_count": 13,
   "metadata": {},
   "outputs": [
    {
     "name": "stdout",
     "output_type": "stream",
     "text": [
      "[[0.         0.92307692 0.92307692 0.88888889]\n",
      " [0.92307692 0.         1.         0.96      ]\n",
      " [0.92307692 1.         0.         0.96      ]\n",
      " [0.88888889 0.96       0.96       0.        ]]\n",
      "0.9425071225071225\n"
     ]
    }
   ],
   "source": [
    "## table 7 way_2 for claculate consensensus\n",
    "\n",
    "a=(experts,experts)\n",
    "CS=np.zeros(a)\n",
    "k=[]\n",
    "for i in range(experts):\n",
    "    for j in range(experts):\n",
    "        if(i==j):\n",
    "            k.append(0)\n",
    "        else:\n",
    "            a=posw[i]+posw[j]\n",
    "            b=negw[i]+negw[j]\n",
    "            p=((a-b)/(a+b))+1 \n",
    "            c=p/2\n",
    "            k.append(c)\n",
    "    CS[i]=k\n",
    "    k=[]\n",
    "print(CS)\n",
    "\n",
    "### calculate global consensus\n",
    "GCS=(np.sum(CS))/(no_of_alter*no_of_alter-no_of_alter)\n",
    "print(GCS)"
   ]
  },
  {
   "cell_type": "code",
   "execution_count": 14,
   "metadata": {},
   "outputs": [
    {
     "name": "stdout",
     "output_type": "stream",
     "text": [
      "4.0 0.9425071225071225\n",
      "consensus reached in both consensus measuring approaches are quite high. Then,it is possible to accept the generated alternatives ranking as the final one.\n",
      "3\n",
      "2\n",
      "1\n",
      "4\n",
      "number of computation 624.0\n"
     ]
    }
   ],
   "source": [
    "print(GCN,GCS)\n",
    "print(\"consensus reached in both consensus measuring approaches are quite high. Then,it is possible to accept the generated alternatives ranking as the final one.\")\n",
    "for i in range(no_of_alter):\n",
    "    print(ranking[i][0])\n",
    "print(\"number of computation\",((experts*(no_of_alter**2-no_of_alter)*(len(preference)/experts))+(no_of_alter**2-no_of_alter)*experts))"
   ]
  }
 ],
 "metadata": {
  "kernelspec": {
   "display_name": "Python 3",
   "language": "python",
   "name": "python3"
  },
  "language_info": {
   "codemirror_mode": {
    "name": "ipython",
    "version": 3
   },
   "file_extension": ".py",
   "mimetype": "text/x-python",
   "name": "python",
   "nbconvert_exporter": "python",
   "pygments_lexer": "ipython3",
   "version": "3.7.1"
  }
 },
 "nbformat": 4,
 "nbformat_minor": 2
}
